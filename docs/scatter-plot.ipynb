{
 "cells": [
  {
   "cell_type": "markdown",
   "id": "6a38cea1-a420-4691-888d-ff756faccd36",
   "metadata": {},
   "source": [
    "# 散布図を描く (matplotlib)\n",
    "\n",
    "- 2022-01-29 Suguru Yamamoto \\<sgryjp@gmail.com\\>\n",
    "\n",
    "2 次元の散布図は 2 つの確率変数の間にある関係を可視化する。"
   ]
  },
  {
   "cell_type": "code",
   "execution_count": null,
   "id": "bd1b616a-15d0-4fcf-b710-dea4b9205bf7",
   "metadata": {},
   "outputs": [],
   "source": [
    "import matplotlib.pyplot as plt\n",
    "import matplotlib_inline\n",
    "import numpy as np\n",
    "import pandas as pd\n",
    "from vega_datasets import data\n",
    "\n",
    "plt.style.use(\"default\")\n",
    "matplotlib_inline.backend_inline.set_matplotlib_formats(\"svg\")\n",
    "pd.set_option(\"display.max_rows\", 7)"
   ]
  },
  {
   "cell_type": "markdown",
   "id": "fecf5f24-6bf1-4d21-ae36-75e77bb6aede",
   "metadata": {},
   "source": [
    "## プロットに使うデータをロード\n",
    "\n",
    "このノートブックでは [vega_datasets](https://vega.github.io/vega-datasets/) の `cars` データセットを使用する。"
   ]
  },
  {
   "cell_type": "code",
   "execution_count": null,
   "id": "3e8728e9-f9c5-40d4-a924-3124c18c5ac6",
   "metadata": {},
   "outputs": [],
   "source": [
    "cars = data(\"cars\")\n",
    "cars"
   ]
  },
  {
   "cell_type": "markdown",
   "id": "1aa30d63-9d23-4902-925e-f0759ab0ec78",
   "metadata": {
    "tags": []
   },
   "source": [
    "## 基本中の基本\n",
    "\n",
    "散布図のプロットは [`matplotlib.Axes.scatter` 関数](https://matplotlib.org/stable/api/_as_gen/matplotlib.axes.Axes.scatter.html) で行うのが基本形。もっとも一般的な散布図の使い方は、2 つの確率変数（プログラミング的には 1 次元の数値配列）の間にある関係を視覚的に表現する使い方だと思う。この場合、`scatter` の第一引数 `x` と第二引数 `y` に同じ長さの変数を指定すれば、`x` を横軸 `y` を縦軸にマッピングして散布図を描いてくれる。"
   ]
  },
  {
   "cell_type": "code",
   "execution_count": null,
   "id": "8285f60f-63fc-44e2-a41c-a3ca35a0fe06",
   "metadata": {},
   "outputs": [],
   "source": [
    "x = cars[\"Horsepower\"]  # ただの list や NumPy Array でも良い\n",
    "y = cars[\"Miles_per_Gallon\"]\n",
    "\n",
    "fig, ax = plt.subplots(constrained_layout=True)\n",
    "ax.scatter(x, y)\n",
    "ax.xaxis.set_label_text(\"Horsepower\")  # ax.set_xlabel() でも可\n",
    "ax.yaxis.set_label_text(\"Miles per Gallon\")  # ax.set_ylabel() でも可\n",
    "ax.set_title(\"MPG v.s. Horsepower\")\n",
    "plt.show()"
   ]
  },
  {
   "cell_type": "markdown",
   "id": "1b90c2c7-2e90-49a8-a616-b740d9cef8d5",
   "metadata": {},
   "source": [
    "## マーカーの形やサイズを変える\n",
    "\n",
    "散布図のデータ点を表すマーカーの形は `marker` 引数で変更できる。たとえば `o` で丸、`x` でバツ印など、マーカーの見た目と似た形の半角英数字で指定する。かなり多くの形がサポートされているので、一度はリファレンスを確認しておくと良いだろう。\n",
    "\n",
    "- [matplotlib.markers &mdash; Matplotlib documentation](https://matplotlib.org/stable/api/markers_api.html#module-matplotlib.markers)\n",
    "\n",
    "マーカーのサイズは `s` 引数に各点のサイズを格納した配列を渡すことで個別に変更できる。単純に好みのサイズでマーカーを描きたい場合は数値一つでサイズを指定すれば良い。また `x` や `y` に指定した数値列と同じ長さの数値列を指定すれば個々のマーカーのサイズを指定できる。これは、縦軸・横軸にマッピングした変数以外の変数をマーカーの大きさにマッピングできる（その変数が大きいほどマーカーのサイズも大きくなる）と言うこともできる。"
   ]
  },
  {
   "cell_type": "code",
   "execution_count": null,
   "id": "ccda657d-aa41-433f-9779-cb93576d9921",
   "metadata": {},
   "outputs": [],
   "source": [
    "x = cars[\"Horsepower\"]\n",
    "y = cars[\"Miles_per_Gallon\"]\n",
    "cylinders = cars[\"Cylinders\"]\n",
    "cylinders = cylinders * 32  # シリンダー数＝サイズとすると小さすぎるので大きくする\n",
    "\n",
    "fig, ax = plt.subplots(constrained_layout=True)\n",
    "ax.scatter(\n",
    "    x,\n",
    "    y,\n",
    "    marker=\"d\",  # ダイアモンド形\n",
    "    s=cylinders,  # シリンダー数に応じて点の大きさを変える\n",
    "    alpha=0.1,  # 点が重なると見にくいので10%の半透明にする\n",
    ")\n",
    "ax.xaxis.set_label_text(\"Horsepower\")\n",
    "ax.yaxis.set_label_text(\"Miles per Gallon\")\n",
    "ax.set_title(\"MPG v.s. Horsepower\")\n",
    "plt.show()"
   ]
  },
  {
   "cell_type": "markdown",
   "id": "9e317dad-4ec3-43bd-b264-55bea2d4638a",
   "metadata": {},
   "source": [
    "なお上記の例ではテキトーに 32 倍した値をマーカーのサイズとしていたけれど、このような実装は対象とする変数の[範囲](https://bellcurve.jp/statistics/glossary/1245.html)によって毎回ちょうど良い係数を試行錯誤で探すことになる。どのような範囲の変数に対しても通用するような描画処理を作りたければ、[min-max 正規化](https://www.bing.com/search?q=min+max+正規化)で変数の範囲を整える処理を追加しよう。"
   ]
  },
  {
   "cell_type": "markdown",
   "id": "117de7cb-a306-4d3e-ae30-8cca1e107ff5",
   "metadata": {},
   "source": [
    "## マーカーの色を変える\n",
    "\n",
    "マーカーの色は `c` 引数、マーカー図形の輪郭線の色は `edgecolors` 引数、輪郭線の太さは `linewidth` で変更できる。"
   ]
  },
  {
   "cell_type": "code",
   "execution_count": null,
   "id": "b5e70604-ff8a-4cca-b604-a617af8d7885",
   "metadata": {},
   "outputs": [],
   "source": [
    "x = cars[\"Horsepower\"]\n",
    "y = cars[\"Miles_per_Gallon\"]\n",
    "cylinders = cars[\"Cylinders\"]\n",
    "cylinders = cylinders ** 3  # シリンダ数＝サイズとすると小さすぎるので大きくする\n",
    "\n",
    "fig, ax = plt.subplots(constrained_layout=True)\n",
    "ax.scatter(\n",
    "    x,\n",
    "    y,\n",
    "    marker=\"s\",\n",
    "    s=cylinders,\n",
    "    alpha=0.2,\n",
    "    c=\"gray\",\n",
    "    edgecolors=\"red\",\n",
    "    linewidth=0.5,\n",
    ")\n",
    "ax.xaxis.set_label_text(\"Horsepower\")\n",
    "ax.yaxis.set_label_text(\"Miles per Gallon\")\n",
    "ax.set_title(\"MPG v.s. Horsepower\")\n",
    "plt.show()"
   ]
  },
  {
   "cell_type": "markdown",
   "id": "43b8b9ea-f4f3-4e49-a1fa-6e389ee705d6",
   "metadata": {},
   "source": [
    "### 量的変数を色にマッピングする"
   ]
  },
  {
   "cell_type": "markdown",
   "id": "82746189-4c23-4874-8684-6b6729dcee98",
   "metadata": {},
   "source": [
    "マーカーの色についてもサイズと同様に、`x` や `y` と同じ長さの配列を指定することでマーカーごとの色を変更できる。先ほどはサイズに変数をマッピングしたけれど、代わりに色にマッピングすると次のようになる。"
   ]
  },
  {
   "cell_type": "code",
   "execution_count": null,
   "id": "8c9c541d-aa5e-4eee-b7da-d4afaf749dbd",
   "metadata": {},
   "outputs": [],
   "source": [
    "x = cars[\"Horsepower\"]\n",
    "y = cars[\"Miles_per_Gallon\"]\n",
    "acceleration = cars[\"Acceleration\"]\n",
    "\n",
    "fig, ax = plt.subplots(constrained_layout=True)\n",
    "ax.scatter(\n",
    "    x,\n",
    "    y,\n",
    "    c=acceleration,  # 加速性能の高さを色にマッピング\n",
    "    edgecolors=\"white\",\n",
    "    linewidth=0.75,\n",
    ")\n",
    "ax.xaxis.set_label_text(\"Horsepower\")\n",
    "ax.yaxis.set_label_text(\"Miles per Gallon\")\n",
    "ax.set_title(\"MPG v.s. Horsepower\")\n",
    "plt.show()"
   ]
  },
  {
   "cell_type": "markdown",
   "id": "cfd08467-d0f4-4016-a771-797b762f5b30",
   "metadata": {},
   "source": [
    "特に変数を色にマッピングした場合は、カラーバーを同時に表示してあげると各データ点がどの程度の値なのかが分かりやすい。カラーバーを表示するには、散布図の Artist （`scatter` 関数の戻り値。詳細は [matplotlib のチュートリアル](https://matplotlib.org/stable/tutorials/introductory/usage.html#sphx-glr-tutorials-introductory-usage-py)参照）に対して [`matplotlib.pyplot.colorbar` 関数](https://matplotlib.org/stable/api/_as_gen/matplotlib.pyplot.colorbar.html)を適用すればよい。なお、カラーバーには横軸・縦軸と同様にラベル文字列を設定できるので、色に変数をマッピングした場合は何の変数をマッピングしたのかをラベル文字列で表示しておくと良いと思う。\n",
    "\n",
    "スカラー値と RGB 成分で決まる色の対応関係は、[カラーマップ](https://matplotlib.org/stable/api/_as_gen/matplotlib.colors.Colormap.html)という仕組みで実現されている。特定のカラーマップを使いたい場面もあると思うので、変えられるということは覚えておいた方が良いと思う。"
   ]
  },
  {
   "cell_type": "code",
   "execution_count": null,
   "id": "c1876553-1410-4291-a728-688bee106679",
   "metadata": {},
   "outputs": [],
   "source": [
    "x = cars[\"Horsepower\"]\n",
    "y = cars[\"Miles_per_Gallon\"]\n",
    "acceleration = cars[\"Acceleration\"]\n",
    "\n",
    "fig, ax = plt.subplots(constrained_layout=True)\n",
    "points = ax.scatter(\n",
    "    x,\n",
    "    y,\n",
    "    c=acceleration,  # 加速性能の高さを色にマッピング\n",
    "    edgecolors=\"white\",\n",
    "    linewidth=0.75,\n",
    "    cmap=\"Reds\",  # カラーマップ \"Reds\" を使用\n",
    ")\n",
    "colorbar = plt.colorbar(points)  # カラーバーを表示\n",
    "colorbar.set_label(\"Acceleration\")  # カラーバーの説明を描画\n",
    "ax.xaxis.set_label_text(\"Horsepower\")\n",
    "ax.yaxis.set_label_text(\"Miles per Gallon\")\n",
    "ax.set_title(\"MPG v.s. Horsepower\")\n",
    "plt.show()"
   ]
  },
  {
   "cell_type": "markdown",
   "id": "07b99df0-d026-4695-9340-31dfb1428efb",
   "metadata": {},
   "source": [
    "### 質的変数を色にマッピングする"
   ]
  },
  {
   "cell_type": "markdown",
   "id": "6f25ab74-067a-436a-8b9c-0a81fedf80e4",
   "metadata": {},
   "source": [
    "カラーマップはスカラー値と色を対応付ける仕組みなので、質的変数を直接色にマッピングすることはできない。基本的には Ordinal Encoding で数値化すれば良いのだけれど、そこでカラーバーを表示しても嬉しくない。凡例に色付きで当該変数（要因）の水準を並べる形がよく見かける良い例だけれど、これは matplotlib では少々実現に手間がかかる。やや込み入ったコードになるけれど、書いてみると次のようになる。\n",
    "\n",
    "```{note}\n",
    "ちなみに seaborn や altair であれば簡単に書けるので、それらに切り替えるという手もある。\n",
    "```"
   ]
  },
  {
   "cell_type": "code",
   "execution_count": null,
   "id": "f536d97b-3f06-40d8-85b8-5c8355301f84",
   "metadata": {},
   "outputs": [],
   "source": [
    "from matplotlib.patches import Patch\n",
    "\n",
    "x = cars[\"Horsepower\"]\n",
    "y = cars[\"Miles_per_Gallon\"]\n",
    "\n",
    "# 色にマッピングする質的変数に関する処理\n",
    "origin = cars[\"Origin\"]\n",
    "origin_names = np.unique(origin)  # 重複無く昇順で値を抽出\n",
    "origin_indices = np.array(  # originの各値が「origin_namesの何番目か」を求める\n",
    "    [origin_names.searchsorted(o) for o in origin]\n",
    ")\n",
    "cmap = plt.colormaps[\"tab10\"]  # 離散カラーマップの tab10 を取得\n",
    "colors = [cmap(i) for i in origin_indices]  # 各データ点の色を決定\n",
    "patches = [  # 凡例描画用に各水準の色で塗った図形を用意\n",
    "    Patch(facecolor=cmap(i), edgecolor=\"white\", linewidth=0.75)\n",
    "    for i, _ in enumerate(origin_names)\n",
    "]\n",
    "\n",
    "fig, ax = plt.subplots(constrained_layout=True)\n",
    "ax.scatter(\n",
    "    x,\n",
    "    y,\n",
    "    c=colors,  # 色成分のリストで個々のデータ点の色を指定\n",
    "    edgecolor=\"white\",\n",
    "    linewidth=0.75,\n",
    ")\n",
    "ax.xaxis.set_label_text(\"Horsepower\")\n",
    "ax.yaxis.set_label_text(\"Miles per Gallon\")\n",
    "ax.legend(patches, origin_names)\n",
    "plt.show()"
   ]
  },
  {
   "cell_type": "markdown",
   "id": "1084a75b-1794-46dd-99a5-be38f3e2ace1",
   "metadata": {},
   "source": [
    "## お手軽メソッド `plot` を使う方法\n",
    "\n",
    "Axes の `plot` メソッドに \"`.`\" や \"`o`\" といったマークを表すコードを指定すれば手早く散布図を描くことができる。ただし、凝った描画はできないため、たとえば報告用など、キレイに仕上げるつもりがあれば最初から `scatter` を使った方が良いと思う。"
   ]
  },
  {
   "cell_type": "code",
   "execution_count": null,
   "id": "35cf6b51-907d-4aad-8fb2-3e78d597483d",
   "metadata": {},
   "outputs": [],
   "source": [
    "x = cars[\"Horsepower\"]\n",
    "y = cars[\"Miles_per_Gallon\"]\n",
    "\n",
    "fig, ax = plt.subplots()\n",
    "ax.plot(x, y, \".\")\n",
    "plt.show()"
   ]
  },
  {
   "cell_type": "markdown",
   "id": "95f4780b-0239-4f81-8fe0-45135186b7f7",
   "metadata": {
    "tags": []
   },
   "source": [
    "## pandas データフレームでプロットする\n",
    "\n",
    "`scatter` メソッドは数値配列を受け取る代わりに [pandas](https://pandas.pydata.org/) データフレームの列名を文字列で指定するスタイルにも対応している。具体的には `data` 引数にデータフレームを渡しておけば、`x`, `y` などに列名を文字列で渡せるようになる。ただし、基本的には数値配列を指定する場合との互換性を考えているのか、「`x` に指定した列名が自動的に横軸ラベルとして表示される」といった比較的実現が容易な便利な動作は行われない。普段からデータフレームを主に使っていて、この書き方が良いなと思ったなら [seaborn](http://seaborn.pydata.org/) や [altair](https://altair-viz.github.io/) の使い方を覚えた方が良いかもしれない。"
   ]
  },
  {
   "cell_type": "code",
   "execution_count": null,
   "id": "cc357206-e8c5-45f6-95ee-be31c6af49fa",
   "metadata": {},
   "outputs": [],
   "source": [
    "fig, ax = plt.subplots(constrained_layout=True)\n",
    "ax.scatter(\n",
    "    x=\"Horsepower\",  # データフレームの列名で変数を指定\n",
    "    y=\"Miles_per_Gallon\",  # データフレームの列名で変数を指定\n",
    "    c=\"Acceleration\",  # データフレームの列名で変数を指定\n",
    "    cmap=\"Reds\",\n",
    "    data=cars,  # データフレームを指定\n",
    ")\n",
    "plt.show()"
   ]
  },
  {
   "cell_type": "markdown",
   "id": "7d22ec42-41fc-42a8-be69-12c0e735f986",
   "metadata": {},
   "source": [
    "以上。"
   ]
  }
 ],
 "metadata": {
  "kernelspec": {
   "display_name": "Python 3 (ipykernel)",
   "language": "python",
   "name": "python3"
  },
  "language_info": {
   "codemirror_mode": {
    "name": "ipython",
    "version": 3
   },
   "file_extension": ".py",
   "mimetype": "text/x-python",
   "name": "python",
   "nbconvert_exporter": "python",
   "pygments_lexer": "ipython3",
   "version": "3.9.9"
  }
 },
 "nbformat": 4,
 "nbformat_minor": 5
}
